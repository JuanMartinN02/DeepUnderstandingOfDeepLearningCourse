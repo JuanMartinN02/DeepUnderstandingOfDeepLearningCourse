{
  "nbformat": 4,
  "nbformat_minor": 0,
  "metadata": {
    "colab": {
      "provenance": []
    },
    "kernelspec": {
      "name": "python3",
      "display_name": "Python 3"
    },
    "language_info": {
      "name": "python"
    }
  },
  "cells": [
    {
      "cell_type": "code",
      "execution_count": 5,
      "metadata": {
        "id": "LjRINRTpGCgN"
      },
      "outputs": [],
      "source": [
        "# import libraries\n",
        "import numpy as np\n",
        "import torch\n",
        "import torch.nn as nn"
      ]
    },
    {
      "cell_type": "code",
      "source": [
        "# build two models\n",
        "\n",
        "widenet = nn.Sequential(\n",
        "    nn.Linear(2,4),  # hidden layer\n",
        "    nn.Linear(4,3),  # output layer\n",
        "    )\n",
        "\n",
        "\n",
        "deepnet = nn.Sequential(\n",
        "    nn.Linear(2,2),  # hidden layer\n",
        "    nn.Linear(2,2),  # hidden layer\n",
        "    nn.Linear(2,3),  # output layer\n",
        "    )\n",
        "\n",
        "# print them out to have a look\n",
        "print(widenet)\n",
        "print(' ')\n",
        "print(deepnet)"
      ],
      "metadata": {
        "colab": {
          "base_uri": "https://localhost:8080/"
        },
        "id": "rNk7PMUWGIDK",
        "outputId": "4f341e40-0f9b-48e6-de41-bed48cd6486c"
      },
      "execution_count": 6,
      "outputs": [
        {
          "output_type": "stream",
          "name": "stdout",
          "text": [
            "Sequential(\n",
            "  (0): Linear(in_features=2, out_features=4, bias=True)\n",
            "  (1): Linear(in_features=4, out_features=3, bias=True)\n",
            ")\n",
            " \n",
            "Sequential(\n",
            "  (0): Linear(in_features=2, out_features=2, bias=True)\n",
            "  (1): Linear(in_features=2, out_features=2, bias=True)\n",
            "  (2): Linear(in_features=2, out_features=3, bias=True)\n",
            ")\n"
          ]
        }
      ]
    },
    {
      "cell_type": "markdown",
      "source": [
        "# Peeking inside the network"
      ],
      "metadata": {
        "id": "pKHZpd7nM_5D"
      }
    },
    {
      "cell_type": "code",
      "source": [
        "# check out the parameters\n",
        "for p in deepnet.named_parameters():\n",
        "  print(p)\n",
        "  print(' ')"
      ],
      "metadata": {
        "colab": {
          "base_uri": "https://localhost:8080/"
        },
        "id": "lway6qu7NEFZ",
        "outputId": "68c3d6ec-e7f9-44dd-c467-6fc902905f5e"
      },
      "execution_count": 7,
      "outputs": [
        {
          "output_type": "stream",
          "name": "stdout",
          "text": [
            "('0.weight', Parameter containing:\n",
            "tensor([[-0.1814, -0.0373],\n",
            "        [-0.2126, -0.5551]], requires_grad=True))\n",
            " \n",
            "('0.bias', Parameter containing:\n",
            "tensor([ 0.2596, -0.3397], requires_grad=True))\n",
            " \n",
            "('1.weight', Parameter containing:\n",
            "tensor([[-0.1521, -0.0929],\n",
            "        [-0.1155, -0.0730]], requires_grad=True))\n",
            " \n",
            "('1.bias', Parameter containing:\n",
            "tensor([0.7023, 0.1249], requires_grad=True))\n",
            " \n",
            "('2.weight', Parameter containing:\n",
            "tensor([[ 0.0879,  0.1468],\n",
            "        [-0.3932,  0.4351],\n",
            "        [-0.1836, -0.4084]], requires_grad=True))\n",
            " \n",
            "('2.bias', Parameter containing:\n",
            "tensor([ 0.2469, -0.4061,  0.3591], requires_grad=True))\n",
            " \n"
          ]
        }
      ]
    },
    {
      "cell_type": "code",
      "source": [
        "# count the number of nodes ( = the number of biases)\n",
        "\n",
        "# named_parameters() is an iterable that returns the tuple (name,numbers)\n",
        "numNodesInWide = 0\n",
        "for p in widenet.named_parameters():\n",
        "  if 'bias' in p[0]:\n",
        "    numNodesInWide += len(p[1])\n",
        "\n",
        "numNodesInDeep = 0\n",
        "for paramName,paramVect in deepnet.named_parameters():\n",
        "  if 'bias' in paramName:\n",
        "    numNodesInDeep += len(paramVect)\n",
        "\n",
        "\n",
        "print('There are %s nodes in the wide network.' %numNodesInWide)\n",
        "print('There are %s nodes in the deep network.' %numNodesInDeep)"
      ],
      "metadata": {
        "colab": {
          "base_uri": "https://localhost:8080/"
        },
        "id": "p2V6zK-4NHSf",
        "outputId": "4adca044-f716-483e-c488-548ea2d64d3f"
      },
      "execution_count": 8,
      "outputs": [
        {
          "output_type": "stream",
          "name": "stdout",
          "text": [
            "There are 7 nodes in the wide network.\n",
            "There are 7 nodes in the deep network.\n"
          ]
        }
      ]
    },
    {
      "cell_type": "code",
      "source": [
        "# just the parameters\n",
        "for p in widenet.parameters():\n",
        "  print(p)\n",
        "  print(' ')"
      ],
      "metadata": {
        "colab": {
          "base_uri": "https://localhost:8080/"
        },
        "id": "qMzwoNsSNJoS",
        "outputId": "4e0ccf25-1490-4348-aa1a-fc25f3b47776"
      },
      "execution_count": 9,
      "outputs": [
        {
          "output_type": "stream",
          "name": "stdout",
          "text": [
            "Parameter containing:\n",
            "tensor([[ 0.5368,  0.1574],\n",
            "        [-0.0567, -0.0101],\n",
            "        [-0.5407,  0.5081],\n",
            "        [ 0.3602, -0.3442]], requires_grad=True)\n",
            " \n",
            "Parameter containing:\n",
            "tensor([-0.5835, -0.2390, -0.6249,  0.0668], requires_grad=True)\n",
            " \n",
            "Parameter containing:\n",
            "tensor([[-0.0223, -0.1280,  0.2291,  0.0628],\n",
            "        [ 0.1287, -0.3929,  0.2866, -0.0035],\n",
            "        [ 0.0635,  0.1117, -0.0036, -0.1160]], requires_grad=True)\n",
            " \n",
            "Parameter containing:\n",
            "tensor([-0.0383, -0.2337,  0.3863], requires_grad=True)\n",
            " \n"
          ]
        }
      ]
    },
    {
      "cell_type": "code",
      "source": [
        "# now count the total number of trainable parameters\n",
        "nparams = 0\n",
        "for p in widenet.parameters():\n",
        "  if p.requires_grad:\n",
        "    print('This piece has %s parameters' %p.numel())\n",
        "    nparams += p.numel()\n",
        "\n",
        "print('\\n\\nTotal of %s parameters'%nparams)"
      ],
      "metadata": {
        "colab": {
          "base_uri": "https://localhost:8080/"
        },
        "id": "6359RDezNKfC",
        "outputId": "3a995b21-339c-4e27-944d-9fb893cdf6d3"
      },
      "execution_count": 10,
      "outputs": [
        {
          "output_type": "stream",
          "name": "stdout",
          "text": [
            "This piece has 8 parameters\n",
            "This piece has 4 parameters\n",
            "This piece has 12 parameters\n",
            "This piece has 3 parameters\n",
            "\n",
            "\n",
            "Total of 27 parameters\n"
          ]
        }
      ]
    },
    {
      "cell_type": "code",
      "source": [
        "# btw, can also use list comprehension\n",
        "\n",
        "nparams = np.sum([ p.numel() for p in widenet.parameters() if p.requires_grad ])\n",
        "print('Widenet has %s parameters'%nparams)\n",
        "\n",
        "nparams = np.sum([ p.numel() for p in deepnet.parameters() if p.requires_grad ])\n",
        "print('Deepnet has %s parameters'%nparams)\n",
        ""
      ],
      "metadata": {
        "colab": {
          "base_uri": "https://localhost:8080/"
        },
        "id": "zf3BsibdNLU7",
        "outputId": "76a67fbd-e042-429c-aae9-6ff6f31d59de"
      },
      "execution_count": 11,
      "outputs": [
        {
          "output_type": "stream",
          "name": "stdout",
          "text": [
            "Widenet has 27 parameters\n",
            "Deepnet has 21 parameters\n"
          ]
        }
      ]
    },
    {
      "cell_type": "code",
      "source": [
        "# A nice simple way to print out the model info.\n",
        "from torchsummary import summary\n",
        "summary(widenet,(1,2))\n",
        "\n",
        "\n",
        "### NOTE ABOUT THE CODE IN THIS CELL:\n",
        "# torchsummary is being replaced by torchinfo.\n",
        "# If you are importing these libraries on your own (via pip), then see the following website:\n",
        "#        https://pypi.org/project/torch-summary/\n",
        "# However, torchsummary will continue to be supported, so if the code in this cell works (meaning torchsummary is already installed),\n",
        "# then you don't need to do anything!"
      ],
      "metadata": {
        "colab": {
          "base_uri": "https://localhost:8080/"
        },
        "id": "3egnsS4jPafj",
        "outputId": "6c92a349-270b-47ac-964f-7ed854bd2c3e"
      },
      "execution_count": 12,
      "outputs": [
        {
          "output_type": "stream",
          "name": "stdout",
          "text": [
            "----------------------------------------------------------------\n",
            "        Layer (type)               Output Shape         Param #\n",
            "================================================================\n",
            "            Linear-1                 [-1, 1, 4]              12\n",
            "            Linear-2                 [-1, 1, 3]              15\n",
            "================================================================\n",
            "Total params: 27\n",
            "Trainable params: 27\n",
            "Non-trainable params: 0\n",
            "----------------------------------------------------------------\n",
            "Input size (MB): 0.00\n",
            "Forward/backward pass size (MB): 0.00\n",
            "Params size (MB): 0.00\n",
            "Estimated Total Size (MB): 0.00\n",
            "----------------------------------------------------------------\n"
          ]
        }
      ]
    }
  ]
}