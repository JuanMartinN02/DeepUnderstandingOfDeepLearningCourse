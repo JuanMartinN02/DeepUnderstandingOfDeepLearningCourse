{
  "nbformat": 4,
  "nbformat_minor": 0,
  "metadata": {
    "colab": {
      "provenance": []
    },
    "kernelspec": {
      "name": "python3",
      "display_name": "Python 3"
    },
    "language_info": {
      "name": "python"
    }
  },
  "cells": [
    {
      "cell_type": "code",
      "execution_count": 1,
      "metadata": {
        "id": "XjXGm9DFPzWE"
      },
      "outputs": [],
      "source": [
        "# import libraries\n",
        "import torch\n",
        "import torch.nn as nn\n",
        "import numpy as np\n",
        "import matplotlib.pyplot as plt\n",
        "from sklearn.model_selection import train_test_split\n",
        "\n",
        "# new!\n",
        "from torch.utils.data import DataLoader"
      ]
    },
    {
      "cell_type": "code",
      "source": [
        "# import dataset\n",
        "import pandas as pd\n",
        "iris = pd.read_csv('https://raw.githubusercontent.com/mwaskom/seaborn-data/master/iris.csv')\n",
        "\n",
        "\n",
        "# convert from pandas dataframe to tensor\n",
        "data = torch.tensor( iris[iris.columns[0:4]].values ).float()\n",
        "\n",
        "# transform species to number\n",
        "labels = torch.zeros(len(data), dtype=torch.long)\n",
        "# labels[iris.species=='setosa'] = 0 # don't need!\n",
        "labels[iris.species=='versicolor'] = 1\n",
        "labels[iris.species=='virginica'] = 2"
      ],
      "metadata": {
        "id": "EkCagbl6P0xg"
      },
      "execution_count": 2,
      "outputs": []
    },
    {
      "cell_type": "markdown",
      "source": [
        "# A brief aside on using DataLoader"
      ],
      "metadata": {
        "id": "8U2fpPMhP1vc"
      }
    },
    {
      "cell_type": "code",
      "source": [
        "# create our fake dataset\n",
        "\n",
        "fakedata = np.tile(np.array([1,2,3,4]),(10,1)) + np.tile(10*np.arange(1,11),(4,1)).T\n",
        "fakelabels = np.arange(10)>4\n",
        "print(fakedata), print(' ')\n",
        "print(fakelabels)"
      ],
      "metadata": {
        "id": "dHhVEzhIP3Ds",
        "colab": {
          "base_uri": "https://localhost:8080/"
        },
        "outputId": "b11b5786-f248-4e8e-ce6f-4566bfcd254a"
      },
      "execution_count": 3,
      "outputs": [
        {
          "output_type": "stream",
          "name": "stdout",
          "text": [
            "[[ 11  12  13  14]\n",
            " [ 21  22  23  24]\n",
            " [ 31  32  33  34]\n",
            " [ 41  42  43  44]\n",
            " [ 51  52  53  54]\n",
            " [ 61  62  63  64]\n",
            " [ 71  72  73  74]\n",
            " [ 81  82  83  84]\n",
            " [ 91  92  93  94]\n",
            " [101 102 103 104]]\n",
            " \n",
            "[False False False False False  True  True  True  True  True]\n"
          ]
        }
      ]
    },
    {
      "cell_type": "code",
      "source": [
        "# dataloader object with all data\n",
        "fakedataLdr = DataLoader(fakedata, shuffle=True)\n",
        "print( fakedataLdr )\n",
        "print( fakedataLdr.batch_size )"
      ],
      "metadata": {
        "id": "mYm_uw9_P5O3",
        "colab": {
          "base_uri": "https://localhost:8080/"
        },
        "outputId": "b95127a9-cf4b-42c9-c96c-e927c67a5f6c"
      },
      "execution_count": 4,
      "outputs": [
        {
          "output_type": "stream",
          "name": "stdout",
          "text": [
            "<torch.utils.data.dataloader.DataLoader object at 0x7b2bd1c84740>\n",
            "1\n"
          ]
        }
      ]
    },
    {
      "cell_type": "code",
      "source": [
        "# iterate through the data\n",
        "for i,oneSample in enumerate(fakedataLdr):\n",
        "  print(i,oneSample,oneSample.shape)\n",
        "\n",
        "# but where are the labels??"
      ],
      "metadata": {
        "id": "AlMZ5BskP6QD",
        "colab": {
          "base_uri": "https://localhost:8080/"
        },
        "outputId": "13e64a01-da00-421a-f945-30e59b87bfea"
      },
      "execution_count": 7,
      "outputs": [
        {
          "output_type": "stream",
          "name": "stdout",
          "text": [
            "0 tensor([[41, 42, 43, 44]]) torch.Size([1, 4])\n",
            "1 tensor([[21, 22, 23, 24]]) torch.Size([1, 4])\n",
            "2 tensor([[91, 92, 93, 94]]) torch.Size([1, 4])\n",
            "3 tensor([[101, 102, 103, 104]]) torch.Size([1, 4])\n",
            "4 tensor([[31, 32, 33, 34]]) torch.Size([1, 4])\n",
            "5 tensor([[11, 12, 13, 14]]) torch.Size([1, 4])\n",
            "6 tensor([[51, 52, 53, 54]]) torch.Size([1, 4])\n",
            "7 tensor([[81, 82, 83, 84]]) torch.Size([1, 4])\n",
            "8 tensor([[71, 72, 73, 74]]) torch.Size([1, 4])\n",
            "9 tensor([[61, 62, 63, 64]]) torch.Size([1, 4])\n"
          ]
        }
      ]
    },
    {
      "cell_type": "code",
      "source": [
        "# we need to create a Dataset that contains the data and labels\n",
        "fakeDataset = torch.utils.data.TensorDataset(torch.Tensor(fakedata),torch.Tensor(fakelabels))\n",
        "print( fakeDataset.tensors ), print(' ')\n",
        "\n",
        "# then create another DataLoader\n",
        "fakedataLdr = DataLoader(fakeDataset, shuffle=True)\n",
        "\n",
        "# iterate through the data\n",
        "for dat,lab in fakedataLdr:\n",
        "  print(dat,lab)"
      ],
      "metadata": {
        "id": "9etHpHlwP7Ju",
        "colab": {
          "base_uri": "https://localhost:8080/"
        },
        "outputId": "db986875-72cd-460f-dd02-e34f4c779fae"
      },
      "execution_count": 17,
      "outputs": [
        {
          "output_type": "stream",
          "name": "stdout",
          "text": [
            "(tensor([[ 11.,  12.,  13.,  14.],\n",
            "        [ 21.,  22.,  23.,  24.],\n",
            "        [ 31.,  32.,  33.,  34.],\n",
            "        [ 41.,  42.,  43.,  44.],\n",
            "        [ 51.,  52.,  53.,  54.],\n",
            "        [ 61.,  62.,  63.,  64.],\n",
            "        [ 71.,  72.,  73.,  74.],\n",
            "        [ 81.,  82.,  83.,  84.],\n",
            "        [ 91.,  92.,  93.,  94.],\n",
            "        [101., 102., 103., 104.]]), tensor([0., 0., 0., 0., 0., 1., 1., 1., 1., 1.]))\n",
            " \n",
            "tensor([[31., 32., 33., 34.]]) tensor([0.])\n",
            "tensor([[71., 72., 73., 74.]]) tensor([1.])\n",
            "tensor([[81., 82., 83., 84.]]) tensor([1.])\n",
            "tensor([[21., 22., 23., 24.]]) tensor([0.])\n",
            "tensor([[11., 12., 13., 14.]]) tensor([0.])\n",
            "tensor([[41., 42., 43., 44.]]) tensor([0.])\n",
            "tensor([[91., 92., 93., 94.]]) tensor([1.])\n",
            "tensor([[101., 102., 103., 104.]]) tensor([1.])\n",
            "tensor([[51., 52., 53., 54.]]) tensor([0.])\n",
            "tensor([[61., 62., 63., 64.]]) tensor([1.])\n"
          ]
        }
      ]
    },
    {
      "cell_type": "code",
      "source": [
        "# use scikitlearn to split the data\n",
        "train_data,test_data, train_labels,test_labels = train_test_split(fakedata, fakelabels, test_size=.2)\n",
        "\n",
        "# then convert them into PyTorch Datasets\n",
        "train_data = torch.utils.data.TensorDataset(\n",
        "     torch.Tensor(train_data),torch.Tensor(train_labels))\n",
        "\n",
        "test_data = torch.utils.data.TensorDataset(\n",
        "     torch.Tensor(test_data),torch.Tensor(test_labels))\n",
        "\n",
        "# finally, translate into dataloader objects\n",
        "# notice the batches (see next cell)!\n",
        "train_loader = DataLoader(train_data,batch_size=4)\n",
        "test_loader  = DataLoader(test_data)"
      ],
      "metadata": {
        "id": "VZH8eVARP8Wd"
      },
      "execution_count": 18,
      "outputs": []
    },
    {
      "cell_type": "code",
      "source": [
        "# examine the contents of the dataloader (batching is an advantage of dataloader!)\n",
        "print('TRAINING DATA')\n",
        "for batch,label in train_loader: # iterable\n",
        "  print(batch,label)\n",
        "  print(' ')\n",
        "\n",
        "\n",
        "print(' ')\n",
        "print('TESTING DATA')\n",
        "for batch,label in test_loader: # iterable\n",
        "  print(batch,label)\n",
        "  print(' ')"
      ],
      "metadata": {
        "id": "A2CpqUbWP9gl",
        "colab": {
          "base_uri": "https://localhost:8080/"
        },
        "outputId": "63fb075b-1d4e-41f6-8113-fe008933f5b0"
      },
      "execution_count": 19,
      "outputs": [
        {
          "output_type": "stream",
          "name": "stdout",
          "text": [
            "TRAINING DATA\n",
            "tensor([[11., 12., 13., 14.],\n",
            "        [81., 82., 83., 84.],\n",
            "        [41., 42., 43., 44.],\n",
            "        [51., 52., 53., 54.]]) tensor([0., 1., 0., 0.])\n",
            " \n",
            "tensor([[ 21.,  22.,  23.,  24.],\n",
            "        [101., 102., 103., 104.],\n",
            "        [ 31.,  32.,  33.,  34.],\n",
            "        [ 91.,  92.,  93.,  94.]]) tensor([0., 1., 0., 1.])\n",
            " \n",
            " \n",
            "TESTING DATA\n",
            "tensor([[71., 72., 73., 74.]]) tensor([1.])\n",
            " \n",
            "tensor([[61., 62., 63., 64.]]) tensor([1.])\n",
            " \n"
          ]
        }
      ]
    },
    {
      "cell_type": "markdown",
      "source": [
        "# Now back to the real data!"
      ],
      "metadata": {
        "id": "Rn3HHBKwP_RA"
      }
    },
    {
      "cell_type": "code",
      "source": [
        "# use scikitlearn to split the data\n",
        "train_data,test_data, train_labels,test_labels = train_test_split(data, labels, train_size=.8)\n",
        "\n",
        "# then convert them into PyTorch Datasets (note: already converted to tensors)\n",
        "train_data = torch.utils.data.TensorDataset(train_data,train_labels)\n",
        "test_data  = torch.utils.data.TensorDataset(test_data,test_labels)\n",
        "\n",
        "# finally, translate into dataloader objects\n",
        "train_loader = DataLoader(train_data,shuffle=True,batch_size=12)\n",
        "test_loader  = DataLoader(test_data,batch_size=test_data.tensors[0].shape[0])"
      ],
      "metadata": {
        "id": "QrgEwziqQAkH"
      },
      "execution_count": 20,
      "outputs": []
    },
    {
      "cell_type": "code",
      "source": [
        "# check sizes of data batches\n",
        "for X,y in train_loader:\n",
        "  print(X.shape,y.shape)\n",
        "\n",
        "X,y"
      ],
      "metadata": {
        "id": "vP87r6wlQBjf",
        "colab": {
          "base_uri": "https://localhost:8080/"
        },
        "outputId": "5917a1de-d2d6-4fe1-f425-dcb2c38676af"
      },
      "execution_count": 21,
      "outputs": [
        {
          "output_type": "stream",
          "name": "stdout",
          "text": [
            "torch.Size([12, 4]) torch.Size([12])\n",
            "torch.Size([12, 4]) torch.Size([12])\n",
            "torch.Size([12, 4]) torch.Size([12])\n",
            "torch.Size([12, 4]) torch.Size([12])\n",
            "torch.Size([12, 4]) torch.Size([12])\n",
            "torch.Size([12, 4]) torch.Size([12])\n",
            "torch.Size([12, 4]) torch.Size([12])\n",
            "torch.Size([12, 4]) torch.Size([12])\n",
            "torch.Size([12, 4]) torch.Size([12])\n",
            "torch.Size([12, 4]) torch.Size([12])\n"
          ]
        },
        {
          "output_type": "execute_result",
          "data": {
            "text/plain": [
              "(tensor([[5.0000, 3.0000, 1.6000, 0.2000],\n",
              "         [7.0000, 3.2000, 4.7000, 1.4000],\n",
              "         [5.4000, 3.9000, 1.3000, 0.4000],\n",
              "         [4.4000, 3.0000, 1.3000, 0.2000],\n",
              "         [5.5000, 2.6000, 4.4000, 1.2000],\n",
              "         [7.6000, 3.0000, 6.6000, 2.1000],\n",
              "         [5.5000, 4.2000, 1.4000, 0.2000],\n",
              "         [6.3000, 2.5000, 4.9000, 1.5000],\n",
              "         [6.9000, 3.1000, 5.4000, 2.1000],\n",
              "         [6.2000, 3.4000, 5.4000, 2.3000],\n",
              "         [4.9000, 2.5000, 4.5000, 1.7000],\n",
              "         [4.8000, 3.4000, 1.6000, 0.2000]]),\n",
              " tensor([0, 1, 0, 0, 1, 2, 0, 1, 2, 2, 2, 0]))"
            ]
          },
          "metadata": {},
          "execution_count": 21
        }
      ]
    },
    {
      "cell_type": "code",
      "source": [
        "# a function that creates the ANN model\n",
        "\n",
        "def createANewModel():\n",
        "\n",
        "  # model architecture\n",
        "  ANNiris = nn.Sequential(\n",
        "      nn.Linear(4,64),   # input layer\n",
        "      nn.ReLU(),         # activation unit\n",
        "      nn.Linear(64,64),  # hidden layer\n",
        "      nn.ReLU(),         # activation unit\n",
        "      nn.Linear(64,3),   # output units\n",
        "        )\n",
        "\n",
        "  # loss function\n",
        "  lossfun = nn.CrossEntropyLoss()\n",
        "\n",
        "  # optimizer\n",
        "  optimizer = torch.optim.SGD(ANNiris.parameters(),lr=.01)\n",
        "\n",
        "  return ANNiris,lossfun,optimizer"
      ],
      "metadata": {
        "id": "dsPbZKTFQDg7"
      },
      "execution_count": 22,
      "outputs": []
    },
    {
      "cell_type": "code",
      "source": [
        "# train the model\n",
        "\n",
        "# global parameter\n",
        "numepochs = 500\n",
        "\n",
        "def trainTheModel():\n",
        "\n",
        "  # initialize accuracies as empties (not storing losses here)\n",
        "  trainAcc = []\n",
        "  testAcc  = []\n",
        "\n",
        "  # loop over epochs\n",
        "  for epochi in range(numepochs):\n",
        "\n",
        "\n",
        "    # loop over training data batches\n",
        "    batchAcc = []\n",
        "    for X,y in train_loader:\n",
        "\n",
        "      # forward pass and loss\n",
        "      yHat = ANNiris(X)\n",
        "      loss = lossfun(yHat,y)\n",
        "\n",
        "      # backprop\n",
        "      optimizer.zero_grad()\n",
        "      loss.backward()\n",
        "      optimizer.step()\n",
        "\n",
        "      # compute training accuracy just for this batch\n",
        "      batchAcc.append( 100*torch.mean((torch.argmax(yHat,axis=1) == y).float()).item() )\n",
        "    # end of batch loop...\n",
        "\n",
        "\n",
        "    # now that we've trained through the batches, get their average training accuracy\n",
        "    trainAcc.append( np.mean(batchAcc) )\n",
        "\n",
        "    # test accuracy\n",
        "    X,y = next(iter(test_loader)) # extract X,y from test dataloader\n",
        "    predlabels = torch.argmax( ANNiris(X),axis=1 )\n",
        "    testAcc.append( 100*torch.mean((predlabels == y).float()).item() )\n",
        "\n",
        "  # function output\n",
        "  return trainAcc,testAcc"
      ],
      "metadata": {
        "id": "1-pKj_grQEry"
      },
      "execution_count": 23,
      "outputs": []
    },
    {
      "cell_type": "markdown",
      "source": [
        "# Modeling"
      ],
      "metadata": {
        "id": "vnvDBiRtQFtS"
      }
    },
    {
      "cell_type": "code",
      "source": [
        "# create a model\n",
        "ANNiris,lossfun,optimizer = createANewModel()\n",
        "\n",
        "# train the model\n",
        "trainAcc,testAcc = trainTheModel()"
      ],
      "metadata": {
        "id": "F-jjJOuHQIYB"
      },
      "execution_count": 24,
      "outputs": []
    },
    {
      "cell_type": "code",
      "source": [
        "# plot the results\n",
        "fig = plt.figure(figsize=(10,5))\n",
        "\n",
        "plt.plot(trainAcc,'ro-')\n",
        "plt.plot(testAcc,'bs-')\n",
        "plt.xlabel('Epochs')\n",
        "plt.ylabel('Accuracy (%)')\n",
        "plt.legend(['Train','Test'])\n",
        "\n",
        "# optional zoom-in to final epochs\n",
        "# plt.xlim([300,500])\n",
        "# plt.ylim([90,100.5])\n",
        "\n",
        "plt.show()"
      ],
      "metadata": {
        "colab": {
          "base_uri": "https://localhost:8080/",
          "height": 402
        },
        "id": "0nd0Ar_DTswz",
        "outputId": "7bccdd60-4642-4121-d9f5-e6bba065bff8"
      },
      "execution_count": 25,
      "outputs": [
        {
          "output_type": "display_data",
          "data": {
            "text/plain": [
              "<Figure size 1000x500 with 1 Axes>"
            ],
            "image/png": "[encoded data removed]"
          },
          "metadata": {}
        }
      ]
    }
  ]
}