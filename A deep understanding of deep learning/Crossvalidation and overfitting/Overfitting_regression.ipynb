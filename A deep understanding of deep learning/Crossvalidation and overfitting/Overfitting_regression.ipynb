{
  "nbformat": 4,
  "nbformat_minor": 0,
  "metadata": {
    "colab": {
      "provenance": []
    },
    "kernelspec": {
      "name": "python3",
      "display_name": "Python 3"
    },
    "language_info": {
      "name": "python"
    }
  },
  "cells": [
    {
      "cell_type": "code",
      "execution_count": 84,
      "metadata": {
        "id": "PgpzH3eMnA5N"
      },
      "outputs": [],
      "source": [
        "# import libraries\n",
        "import torch\n",
        "import torch.nn as nn\n",
        "import numpy as np\n",
        "import matplotlib.pyplot as plt\n",
        "\n",
        "from sklearn.model_selection import train_test_split\n",
        "from torch.utils.data import DataLoader"
      ]
    },
    {
      "cell_type": "markdown",
      "source": [
        "# Create the data and the model"
      ],
      "metadata": {
        "id": "zq4shVb4nHIn"
      }
    },
    {
      "cell_type": "code",
      "source": [
        "N = 60\n",
        "x = torch.randn(N,1)\n",
        "y = x + torch.randn(N,1)\n",
        "\n",
        "# and plot\n",
        "plt.plot(x,y,'s')\n",
        "plt.show()"
      ],
      "metadata": {
        "colab": {
          "base_uri": "https://localhost:8080/",
          "height": 430
        },
        "id": "FhQ-KLF0nIpe",
        "outputId": "fd1cc904-e290-4bac-f3ea-a289fa2920ef"
      },
      "execution_count": 85,
      "outputs": [
        {
          "output_type": "display_data",
          "data": {
            "text/plain": [
              "<Figure size 640x480 with 1 Axes>"
            ],
            "image/png": "[encoded data removed]"
          },
          "metadata": {}
        }
      ]
    },
    {
      "cell_type": "code",
      "source": [
        "# build model\n",
        "ANNreg = nn.Sequential(\n",
        "    nn.Linear(1,1),  # input layer\n",
        "    nn.ReLU(),       # activation function\n",
        "    nn.Linear(1,1)   # output layer\n",
        "    )"
      ],
      "metadata": {
        "id": "D-8UfmAwnKA9"
      },
      "execution_count": 86,
      "outputs": []
    },
    {
      "cell_type": "code",
      "source": [
        "# model meta-parameters\n",
        "\n",
        "learningRate = .05\n",
        "\n",
        "# loss function\n",
        "lossfun = nn.MSELoss()\n",
        "\n",
        "# optimizer\n",
        "optimizer = torch.optim.SGD(ANNreg.parameters(),lr=learningRate)"
      ],
      "metadata": {
        "id": "QNg2e535nLLL"
      },
      "execution_count": 87,
      "outputs": []
    },
    {
      "cell_type": "markdown",
      "source": [
        "# Select data for training"
      ],
      "metadata": {
        "id": "bYdbutP8nMMo"
      }
    },
    {
      "cell_type": "code",
      "source": [
        "def trainingProportion(n, trainingPercent):\n",
        "  return int(round(n * trainingPercent))\n",
        "\n",
        "# select training data (note the hard-coded N!)\n",
        "trainidx  = np.random.choice(range(N),trainingProportion(N, 0.8),replace=False) # random indices\n",
        "trainBool = np.zeros(N,dtype=bool) # initialize vector of Falses'\n",
        "trainBool[trainidx] = True # set selected samples to True\n",
        "\n",
        "# show the sizes\n",
        "print(x[trainBool].shape)\n",
        "print(x[~trainBool].shape)"
      ],
      "metadata": {
        "colab": {
          "base_uri": "https://localhost:8080/"
        },
        "id": "ZrC_M_f3nN-v",
        "outputId": "8291a93b-eb19-44a2-a674-c8be35ef6d4f"
      },
      "execution_count": 88,
      "outputs": [
        {
          "output_type": "stream",
          "name": "stdout",
          "text": [
            "torch.Size([48, 1])\n",
            "torch.Size([12, 1])\n"
          ]
        }
      ]
    },
    {
      "cell_type": "markdown",
      "source": [
        "# Train the model"
      ],
      "metadata": {
        "id": "ZwoiIDV3nPa2"
      }
    },
    {
      "cell_type": "code",
      "source": [
        "numepochs = 500\n",
        "for epochi in range(numepochs):\n",
        "\n",
        "  # forward pass\n",
        "  yHat = ANNreg(x[trainBool])\n",
        "\n",
        "  # compute loss\n",
        "  loss = lossfun(yHat,y[trainBool])\n",
        "\n",
        "  # backprop\n",
        "  optimizer.zero_grad()\n",
        "  loss.backward()\n",
        "  optimizer.step()"
      ],
      "metadata": {
        "id": "NdqPy_-ZnQTS"
      },
      "execution_count": 89,
      "outputs": []
    },
    {
      "cell_type": "code",
      "source": [
        "# report the losses\n",
        "\n",
        "# compute losses of the TEST set\n",
        "predYtest = ANNreg(x[~trainBool])\n",
        "testloss = (predYtest-y[~trainBool]).pow(2).mean()\n",
        "\n",
        "# print out final TRAIN loss and TEST loss\n",
        "print(f'Final TRAIN loss: {loss.detach():.2f}')\n",
        "print(f'Final TEST loss: {testloss.detach():.2f}')"
      ],
      "metadata": {
        "colab": {
          "base_uri": "https://localhost:8080/"
        },
        "id": "QGec_5NHnRyj",
        "outputId": "7fac52a6-ee34-4e9e-b238-b19c0a7e61c1"
      },
      "execution_count": 90,
      "outputs": [
        {
          "output_type": "stream",
          "name": "stdout",
          "text": [
            "Final TRAIN loss: 1.15\n",
            "Final TEST loss: 0.99\n"
          ]
        }
      ]
    },
    {
      "cell_type": "code",
      "source": [
        "### plot the data\n",
        "\n",
        "# predictions for final training run\n",
        "predYtrain = ANNreg(x[trainBool]).detach().numpy()\n",
        "\n",
        "# now plot\n",
        "plt.plot(x,y,'k^',label='All data')\n",
        "plt.plot(x[trainBool], predYtrain,\n",
        "         'bs',markerfacecolor='w',label='Training pred.')\n",
        "plt.plot(x[~trainBool],predYtest.detach(),\n",
        "         'ro',markerfacecolor='w',label='Test pred.')\n",
        "plt.legend()\n",
        "plt.show()"
      ],
      "metadata": {
        "colab": {
          "base_uri": "https://localhost:8080/",
          "height": 430
        },
        "id": "gyyXiHiMnS14",
        "outputId": "4ce5e5dd-57f0-467c-8d30-d9fc05a93437"
      },
      "execution_count": 91,
      "outputs": [
        {
          "output_type": "display_data",
          "data": {
            "text/plain": [
              "<Figure size 640x480 with 1 Axes>"
            ],
            "image/png": "[encoded data removed]"
          },
          "metadata": {}
        }
      ]
    },
    {
      "cell_type": "markdown",
      "source": [
        "# Code using DataLoader and Scikitlearn"
      ],
      "metadata": {
        "id": "am1YjLmxtZ1W"
      }
    },
    {
      "cell_type": "code",
      "source": [
        "# Dataset that contains the data and labels\n",
        "dataSet = torch.utils.data.TensorDataset(torch.Tensor(x), torch.Tensor(y))\n",
        "print(dataSet), print('')\n",
        "print(dataSet.tensors)"
      ],
      "metadata": {
        "colab": {
          "base_uri": "https://localhost:8080/"
        },
        "collapsed": true,
        "id": "V9iu35Oatquo",
        "outputId": "dbbcc6e3-688c-464b-b747-c245656eac14"
      },
      "execution_count": 92,
      "outputs": [
        {
          "output_type": "stream",
          "name": "stdout",
          "text": [
            "<torch.utils.data.dataset.TensorDataset object at 0x7c65815b9130>\n",
            "\n",
            "(tensor([[-0.2917],\n",
            "        [-0.5757],\n",
            "        [-0.9231],\n",
            "        [-1.7443],\n",
            "        [-1.1140],\n",
            "        [-0.8290],\n",
            "        [-1.0681],\n",
            "        [-0.3465],\n",
            "        [ 0.0970],\n",
            "        [ 0.8366],\n",
            "        [ 0.5735],\n",
            "        [ 0.1304],\n",
            "        [ 1.1822],\n",
            "        [-2.3717],\n",
            "        [-1.0557],\n",
            "        [ 0.3226],\n",
            "        [ 0.9575],\n",
            "        [ 0.2536],\n",
            "        [-0.3198],\n",
            "        [-0.4095],\n",
            "        [-0.6201],\n",
            "        [ 1.0548],\n",
            "        [ 0.0500],\n",
            "        [-0.0780],\n",
            "        [-0.4526],\n",
            "        [ 0.2993],\n",
            "        [-0.0775],\n",
            "        [ 0.1399],\n",
            "        [-1.6210],\n",
            "        [ 0.9164],\n",
            "        [-0.4151],\n",
            "        [-0.8762],\n",
            "        [ 0.2468],\n",
            "        [-0.6063],\n",
            "        [ 0.7293],\n",
            "        [ 0.5258],\n",
            "        [ 0.8047],\n",
            "        [ 1.3650],\n",
            "        [ 0.2377],\n",
            "        [ 1.1117],\n",
            "        [ 0.8641],\n",
            "        [ 0.0757],\n",
            "        [ 1.5951],\n",
            "        [ 0.2118],\n",
            "        [-0.5623],\n",
            "        [-0.4783],\n",
            "        [-0.8302],\n",
            "        [-2.5052],\n",
            "        [-0.1424],\n",
            "        [ 0.0698],\n",
            "        [-0.3255],\n",
            "        [ 1.2501],\n",
            "        [-0.4158],\n",
            "        [-0.2860],\n",
            "        [-0.6726],\n",
            "        [ 0.8948],\n",
            "        [-0.3789],\n",
            "        [ 0.5469],\n",
            "        [-0.4003],\n",
            "        [-0.8328]]), tensor([[-1.7057e+00],\n",
            "        [ 2.1716e-03],\n",
            "        [-1.8426e+00],\n",
            "        [-2.5265e+00],\n",
            "        [-7.6820e-01],\n",
            "        [-2.4477e+00],\n",
            "        [ 9.4690e-01],\n",
            "        [ 1.1933e-01],\n",
            "        [-1.5421e-01],\n",
            "        [ 5.4015e-01],\n",
            "        [ 3.0152e+00],\n",
            "        [ 5.7928e-01],\n",
            "        [-1.1031e+00],\n",
            "        [-1.9313e+00],\n",
            "        [-1.0892e+00],\n",
            "        [-2.9316e-01],\n",
            "        [ 7.3417e-01],\n",
            "        [-4.8375e-01],\n",
            "        [-9.8705e-01],\n",
            "        [-1.3793e+00],\n",
            "        [ 6.0181e-01],\n",
            "        [ 5.9327e-01],\n",
            "        [-1.6666e-01],\n",
            "        [-1.5010e-02],\n",
            "        [-1.9792e+00],\n",
            "        [ 1.9513e+00],\n",
            "        [ 1.1073e+00],\n",
            "        [ 1.7192e+00],\n",
            "        [-9.6389e-01],\n",
            "        [ 1.1650e+00],\n",
            "        [-3.8253e-01],\n",
            "        [-7.5663e-01],\n",
            "        [-9.8167e-03],\n",
            "        [ 8.0456e-01],\n",
            "        [ 1.2119e+00],\n",
            "        [-8.9211e-01],\n",
            "        [ 4.7526e-01],\n",
            "        [-7.9793e-01],\n",
            "        [ 5.0966e-01],\n",
            "        [ 2.8773e-01],\n",
            "        [ 7.0564e-01],\n",
            "        [ 2.2791e+00],\n",
            "        [ 2.3868e+00],\n",
            "        [-1.4129e-01],\n",
            "        [-5.4545e-01],\n",
            "        [-2.0132e+00],\n",
            "        [ 4.0110e-01],\n",
            "        [-2.7379e+00],\n",
            "        [ 1.1713e+00],\n",
            "        [ 8.6635e-01],\n",
            "        [-4.9221e-01],\n",
            "        [ 5.3533e-01],\n",
            "        [ 2.4423e-01],\n",
            "        [-4.8949e-02],\n",
            "        [ 5.8217e-01],\n",
            "        [-1.1238e+00],\n",
            "        [-4.7212e-01],\n",
            "        [ 1.2025e+00],\n",
            "        [ 6.7101e-01],\n",
            "        [-2.1420e+00]]))\n"
          ]
        }
      ]
    },
    {
      "cell_type": "code",
      "source": [
        "# DataLoader\n",
        "dataLdr = DataLoader(dataSet, shuffle = True)\n",
        "\n",
        "for data,lable in dataLdr:\n",
        "  print(data, lable)"
      ],
      "metadata": {
        "colab": {
          "base_uri": "https://localhost:8080/"
        },
        "collapsed": true,
        "id": "KGh8LUk_vTVa",
        "outputId": "f3864125-d991-4025-e314-fb28c0e8f3d0"
      },
      "execution_count": 93,
      "outputs": [
        {
          "output_type": "stream",
          "name": "stdout",
          "text": [
            "tensor([[-0.4526]]) tensor([[-1.9792]])\n",
            "tensor([[-0.4095]]) tensor([[-1.3793]])\n",
            "tensor([[0.5258]]) tensor([[-0.8921]])\n",
            "tensor([[-1.0557]]) tensor([[-1.0892]])\n",
            "tensor([[-1.1140]]) tensor([[-0.7682]])\n",
            "tensor([[-0.4003]]) tensor([[0.6710]])\n",
            "tensor([[-0.8302]]) tensor([[0.4011]])\n",
            "tensor([[-0.4151]]) tensor([[-0.3825]])\n",
            "tensor([[-0.6201]]) tensor([[0.6018]])\n",
            "tensor([[0.1399]]) tensor([[1.7192]])\n",
            "tensor([[0.2468]]) tensor([[-0.0098]])\n",
            "tensor([[-2.3717]]) tensor([[-1.9313]])\n",
            "tensor([[1.3650]]) tensor([[-0.7979]])\n",
            "tensor([[0.2536]]) tensor([[-0.4837]])\n",
            "tensor([[-0.3198]]) tensor([[-0.9870]])\n",
            "tensor([[1.1822]]) tensor([[-1.1031]])\n",
            "tensor([[1.5951]]) tensor([[2.3868]])\n",
            "tensor([[-1.0681]]) tensor([[0.9469]])\n",
            "tensor([[0.2118]]) tensor([[-0.1413]])\n",
            "tensor([[-0.8328]]) tensor([[-2.1420]])\n",
            "tensor([[-0.1424]]) tensor([[1.1713]])\n",
            "tensor([[-0.4158]]) tensor([[0.2442]])\n",
            "tensor([[0.8047]]) tensor([[0.4753]])\n",
            "tensor([[1.0548]]) tensor([[0.5933]])\n",
            "tensor([[0.8641]]) tensor([[0.7056]])\n",
            "tensor([[0.0698]]) tensor([[0.8664]])\n",
            "tensor([[-0.4783]]) tensor([[-2.0132]])\n",
            "tensor([[-1.7443]]) tensor([[-2.5265]])\n",
            "tensor([[-0.5757]]) tensor([[0.0022]])\n",
            "tensor([[0.2993]]) tensor([[1.9513]])\n",
            "tensor([[1.2501]]) tensor([[0.5353]])\n",
            "tensor([[0.5469]]) tensor([[1.2025]])\n",
            "tensor([[0.8366]]) tensor([[0.5402]])\n",
            "tensor([[0.2377]]) tensor([[0.5097]])\n",
            "tensor([[-2.5052]]) tensor([[-2.7379]])\n",
            "tensor([[-0.8290]]) tensor([[-2.4477]])\n",
            "tensor([[-0.5623]]) tensor([[-0.5454]])\n",
            "tensor([[0.0500]]) tensor([[-0.1667]])\n",
            "tensor([[0.8948]]) tensor([[-1.1238]])\n",
            "tensor([[-0.2860]]) tensor([[-0.0489]])\n",
            "tensor([[0.0970]]) tensor([[-0.1542]])\n",
            "tensor([[0.3226]]) tensor([[-0.2932]])\n",
            "tensor([[-0.3789]]) tensor([[-0.4721]])\n",
            "tensor([[-0.3465]]) tensor([[0.1193]])\n",
            "tensor([[0.1304]]) tensor([[0.5793]])\n",
            "tensor([[-0.2917]]) tensor([[-1.7057]])\n",
            "tensor([[-0.0775]]) tensor([[1.1073]])\n",
            "tensor([[1.1117]]) tensor([[0.2877]])\n",
            "tensor([[-0.3255]]) tensor([[-0.4922]])\n",
            "tensor([[0.0757]]) tensor([[2.2791]])\n",
            "tensor([[0.5735]]) tensor([[3.0152]])\n",
            "tensor([[-0.0780]]) tensor([[-0.0150]])\n",
            "tensor([[0.9164]]) tensor([[1.1650]])\n",
            "tensor([[-0.9231]]) tensor([[-1.8426]])\n",
            "tensor([[-0.6063]]) tensor([[0.8046]])\n",
            "tensor([[0.7293]]) tensor([[1.2119]])\n",
            "tensor([[-0.6726]]) tensor([[0.5822]])\n",
            "tensor([[-1.6210]]) tensor([[-0.9639]])\n",
            "tensor([[-0.8762]]) tensor([[-0.7566]])\n",
            "tensor([[0.9575]]) tensor([[0.7342]])\n"
          ]
        }
      ]
    },
    {
      "cell_type": "code",
      "source": [
        "# scikitlearn to separate the data\n",
        "trainData, testData, trainLabel, testLabel = train_test_split(x, y, train_size=0.8, shuffle=True)\n"
      ],
      "metadata": {
        "id": "oLogLrGHv0OX"
      },
      "execution_count": 94,
      "outputs": []
    },
    {
      "cell_type": "code",
      "source": [
        "numepochs = 500\n",
        "for epochi in range(numepochs):\n",
        "\n",
        "  # forward pass\n",
        "  yHat = ANNreg(trainData)\n",
        "\n",
        "  # compute loss\n",
        "  loss = lossfun(yHat,trainLabel)\n",
        "\n",
        "  # backprop\n",
        "  optimizer.zero_grad()\n",
        "  loss.backward()\n",
        "  optimizer.step()"
      ],
      "metadata": {
        "id": "BxbavGiOxaqK"
      },
      "execution_count": 95,
      "outputs": []
    },
    {
      "cell_type": "code",
      "source": [
        "# report the losses\n",
        "\n",
        "# compute losses of the TEST set\n",
        "predYtest = ANNreg(testLabel)\n",
        "testloss = (predYtest-testLabel).pow(2).mean()\n",
        "\n",
        "# print out final TRAIN loss and TEST loss\n",
        "print(f'Final TRAIN loss: {loss.detach():.2f}')\n",
        "print(f'Final TEST loss: {testloss.detach():.2f}')"
      ],
      "metadata": {
        "colab": {
          "base_uri": "https://localhost:8080/"
        },
        "id": "wZn_iVMdxl6m",
        "outputId": "64f07116-7119-45cb-cef5-da8691f1386a"
      },
      "execution_count": 96,
      "outputs": [
        {
          "output_type": "stream",
          "name": "stdout",
          "text": [
            "Final TRAIN loss: 1.13\n",
            "Final TEST loss: 0.10\n"
          ]
        }
      ]
    },
    {
      "cell_type": "code",
      "source": [
        "### plot the data\n",
        "\n",
        "# predictions for final training run\n",
        "predYtrain = ANNreg(trainLabel).detach().numpy()\n",
        "\n",
        "# now plot\n",
        "plt.plot(x,y,'k^',label='All data')\n",
        "plt.plot(trainLabel, predYtrain,\n",
        "         'bs',markerfacecolor='w',label='Training pred.')\n",
        "plt.plot(testLabel,predYtest.detach(),\n",
        "         'ro',markerfacecolor='w',label='Test pred.')\n",
        "plt.legend()\n",
        "plt.show()"
      ],
      "metadata": {
        "colab": {
          "base_uri": "https://localhost:8080/",
          "height": 430
        },
        "id": "_ex4hWBWxm97",
        "outputId": "fbeee37b-b405-4b0a-eee4-55e720cc345c"
      },
      "execution_count": 97,
      "outputs": [
        {
          "output_type": "display_data",
          "data": {
            "text/plain": [
              "<Figure size 640x480 with 1 Axes>"
            ],
            "image/png": "[encoded data removed]"
          },
          "metadata": {}
        }
      ]
    }
  ]
}
