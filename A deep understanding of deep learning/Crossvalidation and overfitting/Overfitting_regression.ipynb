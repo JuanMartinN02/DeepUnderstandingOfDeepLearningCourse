{
  "nbformat": 4,
  "nbformat_minor": 0,
  "metadata": {
    "colab": {
      "provenance": []
    },
    "kernelspec": {
      "name": "python3",
      "display_name": "Python 3"
    },
    "language_info": {
      "name": "python"
    }
  },
  "cells": [
    {
      "cell_type": "code",
      "execution_count": 44,
      "metadata": {
        "id": "PgpzH3eMnA5N"
      },
      "outputs": [],
      "source": [
        "# import libraries\n",
        "import torch\n",
        "import torch.nn as nn\n",
        "import numpy as np\n",
        "import matplotlib.pyplot as plt\n",
        "\n",
        "from sklearn.model_selection import train_test_split\n",
        "from torch.utils.data import DataLoader"
      ]
    },
    {
      "cell_type": "markdown",
      "source": [
        "# Create the data and the model"
      ],
      "metadata": {
        "id": "zq4shVb4nHIn"
      }
    },
    {
      "cell_type": "code",
      "source": [
        "N = 60\n",
        "x = torch.randn(N,1)\n",
        "y = x + torch.randn(N,1)\n",
        "\n",
        "# and plot\n",
        "plt.plot(x,y,'s')\n",
        "plt.show()"
      ],
      "metadata": {
        "colab": {
          "base_uri": "https://localhost:8080/",
          "height": 430
        },
        "id": "FhQ-KLF0nIpe",
        "outputId": "c616776b-0a1d-430e-ca32-efa832eb0bf8"
      },
      "execution_count": 33,
      "outputs": [
        {
          "output_type": "display_data",
          "data": {
            "text/plain": [
              "<Figure size 640x480 with 1 Axes>"
            ],
            "image/png": "[encoded data removed]"
          },
          "metadata": {}
        }
      ]
    },
    {
      "cell_type": "code",
      "source": [
        "# build model\n",
        "ANNreg = nn.Sequential(\n",
        "    nn.Linear(1,1),  # input layer\n",
        "    nn.ReLU(),       # activation function\n",
        "    nn.Linear(1,1)   # output layer\n",
        "    )"
      ],
      "metadata": {
        "id": "D-8UfmAwnKA9"
      },
      "execution_count": 34,
      "outputs": []
    },
    {
      "cell_type": "code",
      "source": [
        "# model meta-parameters\n",
        "\n",
        "learningRate = .05\n",
        "\n",
        "# loss function\n",
        "lossfun = nn.MSELoss()\n",
        "\n",
        "# optimizer\n",
        "optimizer = torch.optim.SGD(ANNreg.parameters(),lr=learningRate)"
      ],
      "metadata": {
        "id": "QNg2e535nLLL"
      },
      "execution_count": 35,
      "outputs": []
    },
    {
      "cell_type": "markdown",
      "source": [
        "# Select data for training"
      ],
      "metadata": {
        "id": "bYdbutP8nMMo"
      }
    },
    {
      "cell_type": "code",
      "source": [
        "def trainingProportion(n, trainingPercent):\n",
        "  return int(round(n * trainingPercent))\n",
        "\n",
        "# select training data (note the hard-coded N!)\n",
        "trainidx  = np.random.choice(range(N),trainingProportion(N, 0.8),replace=False) # random indices\n",
        "trainBool = np.zeros(N,dtype=bool) # initialize vector of Falses'\n",
        "trainBool[trainidx] = True # set selected samples to True\n",
        "\n",
        "# show the sizes\n",
        "print(x[trainBool].shape)\n",
        "print(x[~trainBool].shape)"
      ],
      "metadata": {
        "colab": {
          "base_uri": "https://localhost:8080/"
        },
        "id": "ZrC_M_f3nN-v",
        "outputId": "5ca5c4d0-4fb3-4d0b-fa26-e56cfc36b176"
      },
      "execution_count": 36,
      "outputs": [
        {
          "output_type": "stream",
          "name": "stdout",
          "text": [
            "torch.Size([48, 1])\n",
            "torch.Size([12, 1])\n"
          ]
        }
      ]
    },
    {
      "cell_type": "markdown",
      "source": [
        "# Train the model"
      ],
      "metadata": {
        "id": "ZwoiIDV3nPa2"
      }
    },
    {
      "cell_type": "code",
      "source": [
        "numepochs = 500\n",
        "for epochi in range(numepochs):\n",
        "\n",
        "  # forward pass\n",
        "  yHat = ANNreg(x[trainBool])\n",
        "\n",
        "  # compute loss\n",
        "  loss = lossfun(yHat,y[trainBool])\n",
        "\n",
        "  # backprop\n",
        "  optimizer.zero_grad()\n",
        "  loss.backward()\n",
        "  optimizer.step()"
      ],
      "metadata": {
        "id": "NdqPy_-ZnQTS"
      },
      "execution_count": 37,
      "outputs": []
    },
    {
      "cell_type": "code",
      "source": [
        "# report the losses\n",
        "\n",
        "# compute losses of the TEST set\n",
        "predYtest = ANNreg(x[~trainBool])\n",
        "testloss = (predYtest-y[~trainBool]).pow(2).mean()\n",
        "\n",
        "# print out final TRAIN loss and TEST loss\n",
        "print(f'Final TRAIN loss: {loss.detach():.2f}')\n",
        "print(f'Final TEST loss: {testloss.detach():.2f}')"
      ],
      "metadata": {
        "colab": {
          "base_uri": "https://localhost:8080/"
        },
        "id": "QGec_5NHnRyj",
        "outputId": "bc4d102b-8f05-4c23-e5e3-34bf27cf5dec"
      },
      "execution_count": 38,
      "outputs": [
        {
          "output_type": "stream",
          "name": "stdout",
          "text": [
            "Final TRAIN loss: 0.84\n",
            "Final TEST loss: 0.99\n"
          ]
        }
      ]
    },
    {
      "cell_type": "code",
      "source": [
        "### plot the data\n",
        "\n",
        "# predictions for final training run\n",
        "predYtrain = ANNreg(x[trainBool]).detach().numpy()\n",
        "\n",
        "# now plot\n",
        "plt.plot(x,y,'k^',label='All data')\n",
        "plt.plot(x[trainBool], predYtrain,\n",
        "         'bs',markerfacecolor='w',label='Training pred.')\n",
        "plt.plot(x[~trainBool],predYtest.detach(),\n",
        "         'ro',markerfacecolor='w',label='Test pred.')\n",
        "plt.legend()\n",
        "plt.show()"
      ],
      "metadata": {
        "colab": {
          "base_uri": "https://localhost:8080/",
          "height": 430
        },
        "id": "gyyXiHiMnS14",
        "outputId": "e49e4f3d-3f08-408a-d90a-0822b60c21aa"
      },
      "execution_count": 39,
      "outputs": [
        {
          "output_type": "display_data",
          "data": {
            "text/plain": [
              "<Figure size 640x480 with 1 Axes>"
            ],
            "image/png": "[encoded data removed]"
          },
          "metadata": {}
        }
      ]
    },
    {
      "cell_type": "markdown",
      "source": [
        "# Code using DataLoader and Scikitlearn"
      ],
      "metadata": {
        "id": "am1YjLmxtZ1W"
      }
    },
    {
      "cell_type": "code",
      "source": [
        "# Dataset that contains the data and labels\n",
        "dataSet = torch.utils.data.TensorDataset(torch.Tensor(x), torch.Tensor(y))\n",
        "print(dataSet), print('')\n",
        "print(dataSet.tensors)"
      ],
      "metadata": {
        "colab": {
          "base_uri": "https://localhost:8080/"
        },
        "collapsed": true,
        "id": "V9iu35Oatquo",
        "outputId": "0f308682-a9f7-4118-aad9-272b62095a3d"
      },
      "execution_count": 42,
      "outputs": [
        {
          "output_type": "stream",
          "name": "stdout",
          "text": [
            "<torch.utils.data.dataset.TensorDataset object at 0x7c659d2a0500>\n",
            "\n",
            "(tensor([[-0.0428],\n",
            "        [ 1.5143],\n",
            "        [-0.3937],\n",
            "        [-0.5663],\n",
            "        [ 1.6833],\n",
            "        [-0.8356],\n",
            "        [ 0.2122],\n",
            "        [-0.5778],\n",
            "        [-0.1023],\n",
            "        [-0.9820],\n",
            "        [ 2.0441],\n",
            "        [ 0.1527],\n",
            "        [-0.0112],\n",
            "        [ 0.0877],\n",
            "        [ 2.0490],\n",
            "        [ 0.8866],\n",
            "        [ 0.1548],\n",
            "        [-0.2600],\n",
            "        [ 0.5990],\n",
            "        [-1.2462],\n",
            "        [-0.4147],\n",
            "        [ 1.2570],\n",
            "        [-1.1231],\n",
            "        [ 1.1505],\n",
            "        [ 0.4092],\n",
            "        [-0.1985],\n",
            "        [-0.6900],\n",
            "        [-0.0118],\n",
            "        [-0.0152],\n",
            "        [ 1.5360],\n",
            "        [-0.5758],\n",
            "        [ 0.9279],\n",
            "        [ 1.1573],\n",
            "        [ 2.1001],\n",
            "        [ 0.3395],\n",
            "        [-1.5796],\n",
            "        [ 1.0037],\n",
            "        [-0.1976],\n",
            "        [ 1.3606],\n",
            "        [-1.6792],\n",
            "        [ 0.1736],\n",
            "        [ 1.7568],\n",
            "        [-0.0445],\n",
            "        [-0.8455],\n",
            "        [-0.3052],\n",
            "        [ 0.4405],\n",
            "        [ 1.5072],\n",
            "        [-1.0415],\n",
            "        [ 0.1276],\n",
            "        [ 0.2521],\n",
            "        [ 0.3129],\n",
            "        [-0.6022],\n",
            "        [ 0.5332],\n",
            "        [ 1.0774],\n",
            "        [ 1.5218],\n",
            "        [-0.4492],\n",
            "        [ 1.2120],\n",
            "        [-0.3175],\n",
            "        [ 2.1648],\n",
            "        [ 1.7736]]), tensor([[ 0.3897],\n",
            "        [ 1.4370],\n",
            "        [-0.0983],\n",
            "        [-0.7242],\n",
            "        [ 3.5531],\n",
            "        [-1.8146],\n",
            "        [ 0.1464],\n",
            "        [-1.8276],\n",
            "        [-0.1659],\n",
            "        [-1.8771],\n",
            "        [ 3.1052],\n",
            "        [-0.8611],\n",
            "        [-0.8309],\n",
            "        [-0.1444],\n",
            "        [ 3.2309],\n",
            "        [ 1.1908],\n",
            "        [-2.0516],\n",
            "        [-2.0376],\n",
            "        [ 0.2655],\n",
            "        [-1.2830],\n",
            "        [ 0.4405],\n",
            "        [ 2.4280],\n",
            "        [-1.1951],\n",
            "        [ 0.4361],\n",
            "        [ 0.3707],\n",
            "        [-1.0233],\n",
            "        [-0.1464],\n",
            "        [-2.6273],\n",
            "        [ 0.3723],\n",
            "        [ 0.6342],\n",
            "        [-1.4537],\n",
            "        [-0.3810],\n",
            "        [ 2.5444],\n",
            "        [ 2.7123],\n",
            "        [-0.4045],\n",
            "        [-0.8000],\n",
            "        [ 0.5889],\n",
            "        [-0.3091],\n",
            "        [ 0.3472],\n",
            "        [-0.1472],\n",
            "        [ 1.4675],\n",
            "        [ 1.9046],\n",
            "        [-0.4025],\n",
            "        [-0.5019],\n",
            "        [-0.6002],\n",
            "        [ 1.9641],\n",
            "        [ 2.2226],\n",
            "        [-1.6586],\n",
            "        [ 1.2757],\n",
            "        [ 1.4963],\n",
            "        [-0.1324],\n",
            "        [-1.6729],\n",
            "        [-0.6176],\n",
            "        [ 0.5080],\n",
            "        [ 1.0204],\n",
            "        [ 0.0810],\n",
            "        [ 1.0041],\n",
            "        [ 0.5505],\n",
            "        [ 2.0574],\n",
            "        [ 1.7396]]))\n"
          ]
        }
      ]
    },
    {
      "cell_type": "code",
      "source": [
        "# DataLoader\n",
        "dataLdr = DataLoader(dataSet, shuffle = True)\n",
        "\n",
        "for data,lable in dataLdr:\n",
        "  print(data, lable)"
      ],
      "metadata": {
        "colab": {
          "base_uri": "https://localhost:8080/"
        },
        "collapsed": true,
        "id": "KGh8LUk_vTVa",
        "outputId": "6c72825c-2c88-46f7-fdbd-0a11d7c3788a"
      },
      "execution_count": 43,
      "outputs": [
        {
          "output_type": "stream",
          "name": "stdout",
          "text": [
            "tensor([[1.2120]]) tensor([[1.0041]])\n",
            "tensor([[-0.5758]]) tensor([[-1.4537]])\n",
            "tensor([[-0.0445]]) tensor([[-0.4025]])\n",
            "tensor([[0.5990]]) tensor([[0.2655]])\n",
            "tensor([[1.0774]]) tensor([[0.5080]])\n",
            "tensor([[-1.2462]]) tensor([[-1.2830]])\n",
            "tensor([[2.0490]]) tensor([[3.2309]])\n",
            "tensor([[-0.9820]]) tensor([[-1.8771]])\n",
            "tensor([[-0.3937]]) tensor([[-0.0983]])\n",
            "tensor([[0.2122]]) tensor([[0.1464]])\n",
            "tensor([[0.3129]]) tensor([[-0.1324]])\n",
            "tensor([[2.0441]]) tensor([[3.1052]])\n",
            "tensor([[-0.8356]]) tensor([[-1.8146]])\n",
            "tensor([[0.1548]]) tensor([[-2.0516]])\n",
            "tensor([[-0.5778]]) tensor([[-1.8276]])\n",
            "tensor([[1.1573]]) tensor([[2.5444]])\n",
            "tensor([[1.5072]]) tensor([[2.2226]])\n",
            "tensor([[-1.1231]]) tensor([[-1.1951]])\n",
            "tensor([[-0.2600]]) tensor([[-2.0376]])\n",
            "tensor([[-0.1985]]) tensor([[-1.0233]])\n",
            "tensor([[-1.0415]]) tensor([[-1.6586]])\n",
            "tensor([[0.1527]]) tensor([[-0.8611]])\n",
            "tensor([[-0.3052]]) tensor([[-0.6002]])\n",
            "tensor([[1.5360]]) tensor([[0.6342]])\n",
            "tensor([[-0.0152]]) tensor([[0.3723]])\n",
            "tensor([[-0.1976]]) tensor([[-0.3091]])\n",
            "tensor([[1.0037]]) tensor([[0.5889]])\n",
            "tensor([[0.3395]]) tensor([[-0.4045]])\n",
            "tensor([[-0.4147]]) tensor([[0.4405]])\n",
            "tensor([[-0.5663]]) tensor([[-0.7242]])\n",
            "tensor([[-0.3175]]) tensor([[0.5505]])\n",
            "tensor([[0.5332]]) tensor([[-0.6176]])\n",
            "tensor([[0.9279]]) tensor([[-0.3810]])\n",
            "tensor([[1.3606]]) tensor([[0.3472]])\n",
            "tensor([[-0.1023]]) tensor([[-0.1659]])\n",
            "tensor([[0.1736]]) tensor([[1.4675]])\n",
            "tensor([[0.0877]]) tensor([[-0.1444]])\n",
            "tensor([[-1.5796]]) tensor([[-0.8000]])\n",
            "tensor([[2.1001]]) tensor([[2.7123]])\n",
            "tensor([[1.1505]]) tensor([[0.4361]])\n",
            "tensor([[1.7568]]) tensor([[1.9046]])\n",
            "tensor([[-0.0428]]) tensor([[0.3897]])\n",
            "tensor([[0.8866]]) tensor([[1.1908]])\n",
            "tensor([[0.4092]]) tensor([[0.3707]])\n",
            "tensor([[-0.6022]]) tensor([[-1.6729]])\n",
            "tensor([[1.6833]]) tensor([[3.5531]])\n",
            "tensor([[0.2521]]) tensor([[1.4963]])\n",
            "tensor([[-0.0118]]) tensor([[-2.6273]])\n",
            "tensor([[1.2570]]) tensor([[2.4280]])\n",
            "tensor([[0.4405]]) tensor([[1.9641]])\n",
            "tensor([[2.1648]]) tensor([[2.0574]])\n",
            "tensor([[-0.6900]]) tensor([[-0.1464]])\n",
            "tensor([[1.5143]]) tensor([[1.4370]])\n",
            "tensor([[0.1276]]) tensor([[1.2757]])\n",
            "tensor([[-1.6792]]) tensor([[-0.1472]])\n",
            "tensor([[-0.0112]]) tensor([[-0.8309]])\n",
            "tensor([[1.5218]]) tensor([[1.0204]])\n",
            "tensor([[-0.8455]]) tensor([[-0.5019]])\n",
            "tensor([[1.7736]]) tensor([[1.7396]])\n",
            "tensor([[-0.4492]]) tensor([[0.0810]])\n"
          ]
        }
      ]
    },
    {
      "cell_type": "code",
      "source": [
        "# scikitlearn to separate the data\n",
        "trainData, testData, trainLabel, testLabel = train_test_split(x, y, train_size=0.8)\n"
      ],
      "metadata": {
        "id": "oLogLrGHv0OX"
      },
      "execution_count": 59,
      "outputs": []
    },
    {
      "cell_type": "code",
      "source": [
        "numepochs = 500\n",
        "for epochi in range(numepochs):\n",
        "\n",
        "  # forward pass\n",
        "  yHat = ANNreg(trainData)\n",
        "\n",
        "  # compute loss\n",
        "  loss = lossfun(yHat,trainLabel)\n",
        "\n",
        "  # backprop\n",
        "  optimizer.zero_grad()\n",
        "  loss.backward()\n",
        "  optimizer.step()"
      ],
      "metadata": {
        "id": "BxbavGiOxaqK"
      },
      "execution_count": 61,
      "outputs": []
    },
    {
      "cell_type": "code",
      "source": [
        "# report the losses\n",
        "\n",
        "# compute losses of the TEST set\n",
        "predYtest = ANNreg(testLabel)\n",
        "testloss = (predYtest-testLabel).pow(2).mean()\n",
        "\n",
        "# print out final TRAIN loss and TEST loss\n",
        "print(f'Final TRAIN loss: {loss.detach():.2f}')\n",
        "print(f'Final TEST loss: {testloss.detach():.2f}')"
      ],
      "metadata": {
        "colab": {
          "base_uri": "https://localhost:8080/"
        },
        "id": "wZn_iVMdxl6m",
        "outputId": "6b79ae4e-0641-450c-a6d3-71cb86cfa660"
      },
      "execution_count": 66,
      "outputs": [
        {
          "output_type": "stream",
          "name": "stdout",
          "text": [
            "Final TRAIN loss: 0.72\n",
            "Final TEST loss: 0.15\n"
          ]
        }
      ]
    },
    {
      "cell_type": "code",
      "source": [
        "### plot the data\n",
        "\n",
        "# predictions for final training run\n",
        "predYtrain = ANNreg(trainLabel).detach().numpy()\n",
        "\n",
        "# now plot\n",
        "plt.plot(x,y,'k^',label='All data')\n",
        "plt.plot(trainLabel, predYtrain,\n",
        "         'bs',markerfacecolor='w',label='Training pred.')\n",
        "plt.plot(testLabel,predYtest.detach(),\n",
        "         'ro',markerfacecolor='w',label='Test pred.')\n",
        "plt.legend()\n",
        "plt.show()"
      ],
      "metadata": {
        "colab": {
          "base_uri": "https://localhost:8080/",
          "height": 430
        },
        "id": "_ex4hWBWxm97",
        "outputId": "4ccff04f-afea-4c69-ec3e-d81f2a83e228"
      },
      "execution_count": 67,
      "outputs": [
        {
          "output_type": "display_data",
          "data": {
            "text/plain": [
              "<Figure size 640x480 with 1 Axes>"
            ],
            "image/png": "[encoded data removed]"
          },
          "metadata": {}
        }
      ]
    }
  ]
}