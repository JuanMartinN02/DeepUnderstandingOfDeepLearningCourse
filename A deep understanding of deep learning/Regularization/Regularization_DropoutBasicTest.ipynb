{
  "nbformat": 4,
  "nbformat_minor": 0,
  "metadata": {
    "colab": {
      "provenance": []
    },
    "kernelspec": {
      "name": "python3",
      "display_name": "Python 3"
    },
    "language_info": {
      "name": "python"
    }
  },
  "cells": [
    {
      "cell_type": "code",
      "source": [
        "# import libraries\n",
        "import torch\n",
        "import torch.nn as nn\n",
        "import torch.nn.functional as F"
      ],
      "metadata": {
        "id": "kp-5dY-gxIpl"
      },
      "execution_count": 2,
      "outputs": []
    },
    {
      "cell_type": "markdown",
      "source": [
        "# Using dropout"
      ],
      "metadata": {
        "id": "1jvnWhfsxJcA"
      }
    },
    {
      "cell_type": "code",
      "source": [
        "# define a dropout instance and make some data\n",
        "prob = .5\n",
        "\n",
        "dropout = nn.Dropout(p=prob)\n",
        "x = torch.ones(10)\n",
        "\n",
        "# let's see what dropout returns\n",
        "y = dropout(x)\n",
        "print(x)\n",
        "print(y*(1-prob)) # Try to comment (1-prob), the values of y will be scaled up by the Dropout function!\n",
        "print(torch.mean(y))"
      ],
      "metadata": {
        "colab": {
          "base_uri": "https://localhost:8080/"
        },
        "id": "gqZI7HHqxMGU",
        "outputId": "2ee3b6cd-de79-4a87-b0a4-874019933e14"
      },
      "execution_count": 18,
      "outputs": [
        {
          "output_type": "stream",
          "name": "stdout",
          "text": [
            "tensor([1., 1., 1., 1., 1., 1., 1., 1., 1., 1.])\n",
            "tensor([0., 0., 0., 1., 0., 1., 1., 1., 1., 1.])\n",
            "tensor(1.2000)\n"
          ]
        }
      ]
    },
    {
      "cell_type": "code",
      "source": [
        "# dropout is turned off when evaluating the model\n",
        "dropout.eval()\n",
        "y = dropout(x)\n",
        "print(y)\n",
        "print(torch.mean(y))"
      ],
      "metadata": {
        "colab": {
          "base_uri": "https://localhost:8080/"
        },
        "id": "iJrvrqMKxNWk",
        "outputId": "ba43d46a-7ef7-4690-d6bd-b401c433cd9b"
      },
      "execution_count": 19,
      "outputs": [
        {
          "output_type": "stream",
          "name": "stdout",
          "text": [
            "tensor([1., 1., 1., 1., 1., 1., 1., 1., 1., 1.])\n",
            "tensor(1.)\n"
          ]
        }
      ]
    },
    {
      "cell_type": "code",
      "source": [
        "# annoyingly, F.dropout() is not deactivated in eval mode:\n",
        "\n",
        "dropout.eval()\n",
        "y = F.dropout(x)\n",
        "print(y)\n",
        "print(torch.mean(y))"
      ],
      "metadata": {
        "colab": {
          "base_uri": "https://localhost:8080/"
        },
        "id": "IGBrzQyzxOCR",
        "outputId": "58f9eee9-8d54-4301-a450-0ea4897036b0"
      },
      "execution_count": 20,
      "outputs": [
        {
          "output_type": "stream",
          "name": "stdout",
          "text": [
            "tensor([0., 2., 2., 2., 2., 0., 0., 2., 2., 2.])\n",
            "tensor(1.4000)\n"
          ]
        }
      ]
    },
    {
      "cell_type": "code",
      "source": [
        "# but you can manually switch it off\n",
        "\n",
        "y = F.dropout(x,training=False)\n",
        "\n",
        "print(y)\n",
        "print(torch.mean(y))"
      ],
      "metadata": {
        "colab": {
          "base_uri": "https://localhost:8080/"
        },
        "id": "bJxPoXcRxO4w",
        "outputId": "6988bee6-8720-4132-a835-2ea2a0080894"
      },
      "execution_count": 21,
      "outputs": [
        {
          "output_type": "stream",
          "name": "stdout",
          "text": [
            "tensor([1., 1., 1., 1., 1., 1., 1., 1., 1., 1.])\n",
            "tensor(1.)\n"
          ]
        }
      ]
    },
    {
      "cell_type": "code",
      "source": [
        "# the model needs to be reset after toggling into eval mode\n",
        "\n",
        "dropout.train()\n",
        "y = dropout(x)\n",
        "print(y) # with dropout\n",
        "\n",
        "\n",
        "dropout.eval()\n",
        "y = dropout(x)\n",
        "print(y) # without dropout\n",
        "\n",
        "\n",
        "# dropout.train()\n",
        "y = dropout(x)\n",
        "print(y) # still w/o dropout ;)"
      ],
      "metadata": {
        "colab": {
          "base_uri": "https://localhost:8080/"
        },
        "id": "-RaDKQY5xQKm",
        "outputId": "a8f58eac-fe3a-417b-af4b-6993d51723c1"
      },
      "execution_count": 22,
      "outputs": [
        {
          "output_type": "stream",
          "name": "stdout",
          "text": [
            "tensor([0., 2., 0., 0., 2., 0., 2., 2., 0., 0.])\n",
            "tensor([1., 1., 1., 1., 1., 1., 1., 1., 1., 1.])\n",
            "tensor([1., 1., 1., 1., 1., 1., 1., 1., 1., 1.])\n"
          ]
        }
      ]
    }
  ]
}